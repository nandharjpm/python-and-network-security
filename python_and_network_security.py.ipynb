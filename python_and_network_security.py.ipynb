{
  "nbformat": 4,
  "nbformat_minor": 0,
  "metadata": {
    "colab": {
      "name": "python and network security.ipynb",
      "provenance": [],
      "collapsed_sections": []
    },
    "kernelspec": {
      "name": "python3",
      "display_name": "Python 3"
    },
    "language_info": {
      "name": "python"
    }
  },
  "cells": [
    {
      "cell_type": "code",
      "metadata": {
        "id": "scEh2rfDNLQb"
      },
      "source": [
        "print(\"this project is convert the data into MD5 , Sha1 , sha256 , sha512 , Salting\")"
      ],
      "execution_count": null,
      "outputs": []
    },
    {
      "cell_type": "markdown",
      "metadata": {
        "id": "jIZcK9dMKQIz"
      },
      "source": [
        " \n",
        "\n",
        "first see about MD5 Algorithms --> this is a one way algorithm\n",
        "\n",
        "step1 : first import hashlib --> hashing is a function to convert a data into nonhuman readable text format ,the encrypted data is called chipper.\n",
        "\n",
        "step2 : given the data using md5 algorithm --> call the hashlib and give which algorithm you can use \" hashlib.md5\" inside the parameter mention the byte(b) code b (b ' ') and enter the data in inside of the single quotes(b' Shape AI')\n",
        "\n",
        "step3 : the given storing of the input data using hexdigest() -->hexdigest is returned as a string object of double length, containing only hexadecimal digits\n",
        "\n",
        "hexadecimal number system is 0 to F.\n",
        "\n",
        "step4 : run the code you can see the ciphertext in hexadecimal value"
      ]
    },
    {
      "cell_type": "code",
      "metadata": {
        "colab": {
          "base_uri": "https://localhost:8080/"
        },
        "id": "akxMNEG2KNYE",
        "outputId": "b75aa3af-7ae6-4504-8741-c1419bde86ca"
      },
      "source": [
        "import hashlib\n",
        "given_data=hashlib.md5(b'Shape AI')\n",
        "print(\"output of the MD5 : \")\n",
        "print(given_data.hexdigest())"
      ],
      "execution_count": 63,
      "outputs": [
        {
          "output_type": "stream",
          "text": [
            "output of the MD5 : \n",
            "f44755d0ced35122e2fc09bdb59cdc09\n"
          ],
          "name": "stdout"
        }
      ]
    },
    {
      "cell_type": "markdown",
      "metadata": {
        "id": "ArSwourvht0g"
      },
      "source": [
        "SHA1 --> Secure Hash Algorithm 1\n",
        "\n",
        "step1 : in this code iam m using sha1 algorithm it produce 160 bit\n",
        "\n",
        "step2 : we store the input in the given data is 'Shape AI'\n",
        "\n",
        "step3 : call the hashlib and mention which algorith you can use \"sha1\" and give the input data with encode()\n",
        "\n",
        "encode() --> readable text into non readable text\n",
        "\n",
        "step4 : finally give the encode in hexdigist"
      ]
    },
    {
      "cell_type": "code",
      "metadata": {
        "colab": {
          "base_uri": "https://localhost:8080/"
        },
        "id": "PaNcyqmgS1O1",
        "outputId": "bb2b037d-a1e5-4e18-9b3f-90ddb68c82cc"
      },
      "source": [
        "import hashlib\n",
        "given_data='Shape AI'\n",
        "ciphertext=hashlib.sha1(given_data.encode())\n",
        "print(\"the output of sha1 is : \")\n",
        "print(ciphertext.hexdigest())"
      ],
      "execution_count": 64,
      "outputs": [
        {
          "output_type": "stream",
          "text": [
            "the output of sha1 is : \n",
            "c25ae0344b991425bf221d52d2c2d94a89ad2027\n"
          ],
          "name": "stdout"
        }
      ]
    },
    {
      "cell_type": "markdown",
      "metadata": {
        "id": "9GLKYzrllbMS"
      },
      "source": [
        "SHA256 is one of the successor hash functions to SHA-1 (collectively referred to as SHA-2), and is one of the strongest hash functions\n",
        "\n",
        "step1 : enter a string;\n",
        "\n",
        "step2 : call the hashlib and mention the type of hashing algorithm \"sha256\" and given data to use \"encode()\" to change nonreadable text\n",
        "\n",
        "step3 : and use the encode to change it hexdigist()"
      ]
    },
    {
      "cell_type": "code",
      "metadata": {
        "colab": {
          "base_uri": "https://localhost:8080/"
        },
        "id": "EPhOL4bxlQo2",
        "outputId": "073c030b-e11a-4222-c3e9-1c21ce3ed9a1"
      },
      "source": [
        "import hashlib\n",
        "given_data = 'Shape AI'\n",
        "ciphertext = hashlib.sha256(given_data.encode())\n",
        "print(\"the output of the sha256 : \")\n",
        "print(ciphertext.hexdigest())"
      ],
      "execution_count": 65,
      "outputs": [
        {
          "output_type": "stream",
          "text": [
            "the output of the sha256 : \n",
            "843494370f887cf0ff17d92616313e41c557e071a0b1214132072bd73fd5ff0c\n"
          ],
          "name": "stdout"
        }
      ]
    },
    {
      "cell_type": "markdown",
      "metadata": {
        "id": "20tc32yEo6QV"
      },
      "source": [
        "SHA this is also collectively refered to as SHA-2 it generate 512 bit\n",
        "\n",
        "step1 : import the hashlib --> this is hashing function\n",
        "\n",
        "step2 : enter the data 'Shape AI'\n",
        "\n",
        "step3 : call the hashlib as well as mention the type of hash \"sha512\" and give the data to encode()\n",
        "\n",
        "step4 : and give the encoded data into hexdigest() -->hexadecimal value"
      ]
    },
    {
      "cell_type": "code",
      "metadata": {
        "colab": {
          "base_uri": "https://localhost:8080/"
        },
        "id": "T7UuNitGo7Ye",
        "outputId": "a1566f11-d303-4c49-dd8d-596a735b3eca"
      },
      "source": [
        "import hashlib\n",
        "given_data = 'Shape Ai'\n",
        "ciphertext = hashlib.sha512(given_data.encode())\n",
        "print(\"the output the sha512 : \")\n",
        "print(ciphertext.hexdigest())"
      ],
      "execution_count": 66,
      "outputs": [
        {
          "output_type": "stream",
          "text": [
            "the output the sha512 : \n",
            "5956c7913fe3d0df3a3725110b2ee41266c8a8c2b13b430964cb0143a893fbc26bf1235918653365772feafd14c4ef0c82d44f519c7519a2772cd423334aad4b\n"
          ],
          "name": "stdout"
        }
      ]
    },
    {
      "cell_type": "markdown",
      "metadata": {
        "id": "Y_MiWY5V4xaT"
      },
      "source": [
        "use salting to encrypt the data\n",
        "\n",
        "step1 : import the hashlib\n",
        "\n",
        "step2 : To generate a salt, use the \"os.urandom\" function as it returns random bytes suitable for cryptographic use\n",
        "\n",
        "step3 : call the hashlib function with mention the hashing type of algorithm \n",
        "\n",
        "step4 : in the key inside the parameter store the value and use the encode(utf-8) UTF-8 is a Unicode Transformation Format that uses 8-bit blocks to represent a character.\n",
        "\n",
        "step5 : finally convert the key into hexdigest()\n",
        "\n",
        "step6 : after run it you will see the output."
      ]
    },
    {
      "cell_type": "code",
      "metadata": {
        "colab": {
          "base_uri": "https://localhost:8080/"
        },
        "id": "yAtJRk4F4x27",
        "outputId": "538e4478-97e5-45c9-cd25-86ffd024ef36"
      },
      "source": [
        "import hashlib\n",
        "import os\n",
        "salt = os.urandom(32)\n",
        "get_data = 'Shape AI'\n",
        "key = hashlib.sha256(get_data.encode('utf-8'))\n",
        "print(\"the output of Salting : \")\n",
        "print(key.hexdigest())"
      ],
      "execution_count": 107,
      "outputs": [
        {
          "output_type": "stream",
          "text": [
            "the output of Salting : \n",
            "843494370f887cf0ff17d92616313e41c557e071a0b1214132072bd73fd5ff0c\n"
          ],
          "name": "stdout"
        }
      ]
    }
  ]
}